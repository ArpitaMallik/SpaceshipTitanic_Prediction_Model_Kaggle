{
  "nbformat": 4,
  "nbformat_minor": 0,
  "metadata": {
    "colab": {
      "provenance": [],
      "mount_file_id": "1fIA84WWGdnFaYeOD18IWSgiBOCEjTzwc",
      "authorship_tag": "ABX9TyMadSgZp/42ElIl7kPs7rOZ",
      "include_colab_link": true
    },
    "kernelspec": {
      "name": "python3",
      "display_name": "Python 3"
    },
    "language_info": {
      "name": "python"
    }
  },
  "cells": [
    {
      "cell_type": "markdown",
      "metadata": {
        "id": "view-in-github",
        "colab_type": "text"
      },
      "source": [
        "<a href=\"https://colab.research.google.com/github/ArpitaMallik/SpaceshipTitanic_Prediction_Model_Kaggle/blob/main/Spaceship_Titanic.ipynb\" target=\"_parent\"><img src=\"https://colab.research.google.com/assets/colab-badge.svg\" alt=\"Open In Colab\"/></a>"
      ]
    },
    {
      "cell_type": "code",
      "execution_count": null,
      "metadata": {
        "id": "hyRpSzE90DXC"
      },
      "outputs": [],
      "source": [
        "import numpy as np\n",
        "import pandas as pd\n",
        "import matplotlib.pyplot as plt\n",
        "import seaborn as sns\n",
        "from sklearn.model_selection import train_test_split\n",
        "from sklearn.preprocessing import StandardScaler\n",
        "from sklearn.preprocessing import OneHotEncoder\n",
        "from sklearn import svm\n",
        "from sklearn.metrics import mean_squared_error\n",
        "from sklearn.metrics import accuracy_score\n",
        "from sklearn.linear_model import LogisticRegression\n",
        "from sklearn.linear_model import LinearRegression\n",
        "from sklearn.tree import DecisionTreeClassifier\n",
        "from sklearn.ensemble import RandomForestClassifier"
      ]
    },
    {
      "cell_type": "code",
      "source": [
        "df = pd.read_csv(\"/content/drive/MyDrive/Dataset/train_space.csv\")\n",
        "df.head()\n",
        "df_test = pd.read_csv(\"/content/drive/MyDrive/Dataset/test_space.csv\")"
      ],
      "metadata": {
        "id": "f0OEf5cu0X4N"
      },
      "execution_count": null,
      "outputs": []
    },
    {
      "cell_type": "code",
      "source": [
        "print(df[\"HomePlanet\"].value_counts())\n",
        "print(df[\"Destination\"].value_counts())\n"
      ],
      "metadata": {
        "colab": {
          "base_uri": "https://localhost:8080/"
        },
        "id": "CJe1TLkzvaVo",
        "outputId": "bd4eaa18-5a8f-4ea4-d7ba-3fce15fe506d"
      },
      "execution_count": null,
      "outputs": [
        {
          "output_type": "stream",
          "name": "stdout",
          "text": [
            "Earth     4602\n",
            "Europa    2131\n",
            "Mars      1759\n",
            "Name: HomePlanet, dtype: int64\n",
            "TRAPPIST-1e      5915\n",
            "55 Cancri e      1800\n",
            "PSO J318.5-22     796\n",
            "Name: Destination, dtype: int64\n"
          ]
        }
      ]
    },
    {
      "cell_type": "code",
      "source": [
        "df.describe()"
      ],
      "metadata": {
        "colab": {
          "base_uri": "https://localhost:8080/",
          "height": 320
        },
        "id": "3lysqE2o3TVS",
        "outputId": "e2df55cb-cf70-4db6-885d-b5213a9112c9"
      },
      "execution_count": null,
      "outputs": [
        {
          "output_type": "execute_result",
          "data": {
            "text/plain": [
              "               Age   RoomService     FoodCourt  ShoppingMall           Spa  \\\n",
              "count  8514.000000   8512.000000   8510.000000   8485.000000   8510.000000   \n",
              "mean     28.827930    224.687617    458.077203    173.729169    311.138778   \n",
              "std      14.489021    666.717663   1611.489240    604.696458   1136.705535   \n",
              "min       0.000000      0.000000      0.000000      0.000000      0.000000   \n",
              "25%      19.000000      0.000000      0.000000      0.000000      0.000000   \n",
              "50%      27.000000      0.000000      0.000000      0.000000      0.000000   \n",
              "75%      38.000000     47.000000     76.000000     27.000000     59.000000   \n",
              "max      79.000000  14327.000000  29813.000000  23492.000000  22408.000000   \n",
              "\n",
              "             VRDeck  \n",
              "count   8505.000000  \n",
              "mean     304.854791  \n",
              "std     1145.717189  \n",
              "min        0.000000  \n",
              "25%        0.000000  \n",
              "50%        0.000000  \n",
              "75%       46.000000  \n",
              "max    24133.000000  "
            ],
            "text/html": [
              "\n",
              "  <div id=\"df-8bac1b4f-fd5c-4e21-a39e-20e5b6f2f70c\" class=\"colab-df-container\">\n",
              "    <div>\n",
              "<style scoped>\n",
              "    .dataframe tbody tr th:only-of-type {\n",
              "        vertical-align: middle;\n",
              "    }\n",
              "\n",
              "    .dataframe tbody tr th {\n",
              "        vertical-align: top;\n",
              "    }\n",
              "\n",
              "    .dataframe thead th {\n",
              "        text-align: right;\n",
              "    }\n",
              "</style>\n",
              "<table border=\"1\" class=\"dataframe\">\n",
              "  <thead>\n",
              "    <tr style=\"text-align: right;\">\n",
              "      <th></th>\n",
              "      <th>Age</th>\n",
              "      <th>RoomService</th>\n",
              "      <th>FoodCourt</th>\n",
              "      <th>ShoppingMall</th>\n",
              "      <th>Spa</th>\n",
              "      <th>VRDeck</th>\n",
              "    </tr>\n",
              "  </thead>\n",
              "  <tbody>\n",
              "    <tr>\n",
              "      <th>count</th>\n",
              "      <td>8514.000000</td>\n",
              "      <td>8512.000000</td>\n",
              "      <td>8510.000000</td>\n",
              "      <td>8485.000000</td>\n",
              "      <td>8510.000000</td>\n",
              "      <td>8505.000000</td>\n",
              "    </tr>\n",
              "    <tr>\n",
              "      <th>mean</th>\n",
              "      <td>28.827930</td>\n",
              "      <td>224.687617</td>\n",
              "      <td>458.077203</td>\n",
              "      <td>173.729169</td>\n",
              "      <td>311.138778</td>\n",
              "      <td>304.854791</td>\n",
              "    </tr>\n",
              "    <tr>\n",
              "      <th>std</th>\n",
              "      <td>14.489021</td>\n",
              "      <td>666.717663</td>\n",
              "      <td>1611.489240</td>\n",
              "      <td>604.696458</td>\n",
              "      <td>1136.705535</td>\n",
              "      <td>1145.717189</td>\n",
              "    </tr>\n",
              "    <tr>\n",
              "      <th>min</th>\n",
              "      <td>0.000000</td>\n",
              "      <td>0.000000</td>\n",
              "      <td>0.000000</td>\n",
              "      <td>0.000000</td>\n",
              "      <td>0.000000</td>\n",
              "      <td>0.000000</td>\n",
              "    </tr>\n",
              "    <tr>\n",
              "      <th>25%</th>\n",
              "      <td>19.000000</td>\n",
              "      <td>0.000000</td>\n",
              "      <td>0.000000</td>\n",
              "      <td>0.000000</td>\n",
              "      <td>0.000000</td>\n",
              "      <td>0.000000</td>\n",
              "    </tr>\n",
              "    <tr>\n",
              "      <th>50%</th>\n",
              "      <td>27.000000</td>\n",
              "      <td>0.000000</td>\n",
              "      <td>0.000000</td>\n",
              "      <td>0.000000</td>\n",
              "      <td>0.000000</td>\n",
              "      <td>0.000000</td>\n",
              "    </tr>\n",
              "    <tr>\n",
              "      <th>75%</th>\n",
              "      <td>38.000000</td>\n",
              "      <td>47.000000</td>\n",
              "      <td>76.000000</td>\n",
              "      <td>27.000000</td>\n",
              "      <td>59.000000</td>\n",
              "      <td>46.000000</td>\n",
              "    </tr>\n",
              "    <tr>\n",
              "      <th>max</th>\n",
              "      <td>79.000000</td>\n",
              "      <td>14327.000000</td>\n",
              "      <td>29813.000000</td>\n",
              "      <td>23492.000000</td>\n",
              "      <td>22408.000000</td>\n",
              "      <td>24133.000000</td>\n",
              "    </tr>\n",
              "  </tbody>\n",
              "</table>\n",
              "</div>\n",
              "    <div class=\"colab-df-buttons\">\n",
              "\n",
              "  <div class=\"colab-df-container\">\n",
              "    <button class=\"colab-df-convert\" onclick=\"convertToInteractive('df-8bac1b4f-fd5c-4e21-a39e-20e5b6f2f70c')\"\n",
              "            title=\"Convert this dataframe to an interactive table.\"\n",
              "            style=\"display:none;\">\n",
              "\n",
              "  <svg xmlns=\"http://www.w3.org/2000/svg\" height=\"24px\" viewBox=\"0 -960 960 960\">\n",
              "    <path d=\"M120-120v-720h720v720H120Zm60-500h600v-160H180v160Zm220 220h160v-160H400v160Zm0 220h160v-160H400v160ZM180-400h160v-160H180v160Zm440 0h160v-160H620v160ZM180-180h160v-160H180v160Zm440 0h160v-160H620v160Z\"/>\n",
              "  </svg>\n",
              "    </button>\n",
              "\n",
              "  <style>\n",
              "    .colab-df-container {\n",
              "      display:flex;\n",
              "      gap: 12px;\n",
              "    }\n",
              "\n",
              "    .colab-df-convert {\n",
              "      background-color: #E8F0FE;\n",
              "      border: none;\n",
              "      border-radius: 50%;\n",
              "      cursor: pointer;\n",
              "      display: none;\n",
              "      fill: #1967D2;\n",
              "      height: 32px;\n",
              "      padding: 0 0 0 0;\n",
              "      width: 32px;\n",
              "    }\n",
              "\n",
              "    .colab-df-convert:hover {\n",
              "      background-color: #E2EBFA;\n",
              "      box-shadow: 0px 1px 2px rgba(60, 64, 67, 0.3), 0px 1px 3px 1px rgba(60, 64, 67, 0.15);\n",
              "      fill: #174EA6;\n",
              "    }\n",
              "\n",
              "    .colab-df-buttons div {\n",
              "      margin-bottom: 4px;\n",
              "    }\n",
              "\n",
              "    [theme=dark] .colab-df-convert {\n",
              "      background-color: #3B4455;\n",
              "      fill: #D2E3FC;\n",
              "    }\n",
              "\n",
              "    [theme=dark] .colab-df-convert:hover {\n",
              "      background-color: #434B5C;\n",
              "      box-shadow: 0px 1px 3px 1px rgba(0, 0, 0, 0.15);\n",
              "      filter: drop-shadow(0px 1px 2px rgba(0, 0, 0, 0.3));\n",
              "      fill: #FFFFFF;\n",
              "    }\n",
              "  </style>\n",
              "\n",
              "    <script>\n",
              "      const buttonEl =\n",
              "        document.querySelector('#df-8bac1b4f-fd5c-4e21-a39e-20e5b6f2f70c button.colab-df-convert');\n",
              "      buttonEl.style.display =\n",
              "        google.colab.kernel.accessAllowed ? 'block' : 'none';\n",
              "\n",
              "      async function convertToInteractive(key) {\n",
              "        const element = document.querySelector('#df-8bac1b4f-fd5c-4e21-a39e-20e5b6f2f70c');\n",
              "        const dataTable =\n",
              "          await google.colab.kernel.invokeFunction('convertToInteractive',\n",
              "                                                    [key], {});\n",
              "        if (!dataTable) return;\n",
              "\n",
              "        const docLinkHtml = 'Like what you see? Visit the ' +\n",
              "          '<a target=\"_blank\" href=https://colab.research.google.com/notebooks/data_table.ipynb>data table notebook</a>'\n",
              "          + ' to learn more about interactive tables.';\n",
              "        element.innerHTML = '';\n",
              "        dataTable['output_type'] = 'display_data';\n",
              "        await google.colab.output.renderOutput(dataTable, element);\n",
              "        const docLink = document.createElement('div');\n",
              "        docLink.innerHTML = docLinkHtml;\n",
              "        element.appendChild(docLink);\n",
              "      }\n",
              "    </script>\n",
              "  </div>\n",
              "\n",
              "\n",
              "<div id=\"df-0c3f3e57-0d77-45c1-b8bd-72a3939684d5\">\n",
              "  <button class=\"colab-df-quickchart\" onclick=\"quickchart('df-0c3f3e57-0d77-45c1-b8bd-72a3939684d5')\"\n",
              "            title=\"Suggest charts\"\n",
              "            style=\"display:none;\">\n",
              "\n",
              "<svg xmlns=\"http://www.w3.org/2000/svg\" height=\"24px\"viewBox=\"0 0 24 24\"\n",
              "     width=\"24px\">\n",
              "    <g>\n",
              "        <path d=\"M19 3H5c-1.1 0-2 .9-2 2v14c0 1.1.9 2 2 2h14c1.1 0 2-.9 2-2V5c0-1.1-.9-2-2-2zM9 17H7v-7h2v7zm4 0h-2V7h2v10zm4 0h-2v-4h2v4z\"/>\n",
              "    </g>\n",
              "</svg>\n",
              "  </button>\n",
              "\n",
              "<style>\n",
              "  .colab-df-quickchart {\n",
              "      --bg-color: #E8F0FE;\n",
              "      --fill-color: #1967D2;\n",
              "      --hover-bg-color: #E2EBFA;\n",
              "      --hover-fill-color: #174EA6;\n",
              "      --disabled-fill-color: #AAA;\n",
              "      --disabled-bg-color: #DDD;\n",
              "  }\n",
              "\n",
              "  [theme=dark] .colab-df-quickchart {\n",
              "      --bg-color: #3B4455;\n",
              "      --fill-color: #D2E3FC;\n",
              "      --hover-bg-color: #434B5C;\n",
              "      --hover-fill-color: #FFFFFF;\n",
              "      --disabled-bg-color: #3B4455;\n",
              "      --disabled-fill-color: #666;\n",
              "  }\n",
              "\n",
              "  .colab-df-quickchart {\n",
              "    background-color: var(--bg-color);\n",
              "    border: none;\n",
              "    border-radius: 50%;\n",
              "    cursor: pointer;\n",
              "    display: none;\n",
              "    fill: var(--fill-color);\n",
              "    height: 32px;\n",
              "    padding: 0;\n",
              "    width: 32px;\n",
              "  }\n",
              "\n",
              "  .colab-df-quickchart:hover {\n",
              "    background-color: var(--hover-bg-color);\n",
              "    box-shadow: 0 1px 2px rgba(60, 64, 67, 0.3), 0 1px 3px 1px rgba(60, 64, 67, 0.15);\n",
              "    fill: var(--button-hover-fill-color);\n",
              "  }\n",
              "\n",
              "  .colab-df-quickchart-complete:disabled,\n",
              "  .colab-df-quickchart-complete:disabled:hover {\n",
              "    background-color: var(--disabled-bg-color);\n",
              "    fill: var(--disabled-fill-color);\n",
              "    box-shadow: none;\n",
              "  }\n",
              "\n",
              "  .colab-df-spinner {\n",
              "    border: 2px solid var(--fill-color);\n",
              "    border-color: transparent;\n",
              "    border-bottom-color: var(--fill-color);\n",
              "    animation:\n",
              "      spin 1s steps(1) infinite;\n",
              "  }\n",
              "\n",
              "  @keyframes spin {\n",
              "    0% {\n",
              "      border-color: transparent;\n",
              "      border-bottom-color: var(--fill-color);\n",
              "      border-left-color: var(--fill-color);\n",
              "    }\n",
              "    20% {\n",
              "      border-color: transparent;\n",
              "      border-left-color: var(--fill-color);\n",
              "      border-top-color: var(--fill-color);\n",
              "    }\n",
              "    30% {\n",
              "      border-color: transparent;\n",
              "      border-left-color: var(--fill-color);\n",
              "      border-top-color: var(--fill-color);\n",
              "      border-right-color: var(--fill-color);\n",
              "    }\n",
              "    40% {\n",
              "      border-color: transparent;\n",
              "      border-right-color: var(--fill-color);\n",
              "      border-top-color: var(--fill-color);\n",
              "    }\n",
              "    60% {\n",
              "      border-color: transparent;\n",
              "      border-right-color: var(--fill-color);\n",
              "    }\n",
              "    80% {\n",
              "      border-color: transparent;\n",
              "      border-right-color: var(--fill-color);\n",
              "      border-bottom-color: var(--fill-color);\n",
              "    }\n",
              "    90% {\n",
              "      border-color: transparent;\n",
              "      border-bottom-color: var(--fill-color);\n",
              "    }\n",
              "  }\n",
              "</style>\n",
              "\n",
              "  <script>\n",
              "    async function quickchart(key) {\n",
              "      const quickchartButtonEl =\n",
              "        document.querySelector('#' + key + ' button');\n",
              "      quickchartButtonEl.disabled = true;  // To prevent multiple clicks.\n",
              "      quickchartButtonEl.classList.add('colab-df-spinner');\n",
              "      try {\n",
              "        const charts = await google.colab.kernel.invokeFunction(\n",
              "            'suggestCharts', [key], {});\n",
              "      } catch (error) {\n",
              "        console.error('Error during call to suggestCharts:', error);\n",
              "      }\n",
              "      quickchartButtonEl.classList.remove('colab-df-spinner');\n",
              "      quickchartButtonEl.classList.add('colab-df-quickchart-complete');\n",
              "    }\n",
              "    (() => {\n",
              "      let quickchartButtonEl =\n",
              "        document.querySelector('#df-0c3f3e57-0d77-45c1-b8bd-72a3939684d5 button');\n",
              "      quickchartButtonEl.style.display =\n",
              "        google.colab.kernel.accessAllowed ? 'block' : 'none';\n",
              "    })();\n",
              "  </script>\n",
              "</div>\n",
              "\n",
              "    </div>\n",
              "  </div>\n"
            ],
            "application/vnd.google.colaboratory.intrinsic+json": {
              "type": "dataframe",
              "summary": "{\n  \"name\": \"df\",\n  \"rows\": 8,\n  \"fields\": [\n    {\n      \"column\": \"Age\",\n      \"properties\": {\n        \"dtype\": \"number\",\n        \"std\": 2999.8219236109035,\n        \"min\": 0.0,\n        \"max\": 8514.0,\n        \"num_unique_values\": 8,\n        \"samples\": [\n          28.82793046746535,\n          27.0,\n          8514.0\n        ],\n        \"semantic_type\": \"\",\n        \"description\": \"\"\n      }\n    },\n    {\n      \"column\": \"RoomService\",\n      \"properties\": {\n        \"dtype\": \"number\",\n        \"std\": 5445.098106605418,\n        \"min\": 0.0,\n        \"max\": 14327.0,\n        \"num_unique_values\": 6,\n        \"samples\": [\n          8512.0,\n          224.687617481203,\n          14327.0\n        ],\n        \"semantic_type\": \"\",\n        \"description\": \"\"\n      }\n    },\n    {\n      \"column\": \"FoodCourt\",\n      \"properties\": {\n        \"dtype\": \"number\",\n        \"std\": 10415.198156989396,\n        \"min\": 0.0,\n        \"max\": 29813.0,\n        \"num_unique_values\": 6,\n        \"samples\": [\n          8510.0,\n          458.07720329024676,\n          29813.0\n        ],\n        \"semantic_type\": \"\",\n        \"description\": \"\"\n      }\n    },\n    {\n      \"column\": \"ShoppingMall\",\n      \"properties\": {\n        \"dtype\": \"number\",\n        \"std\": 8366.0020224504,\n        \"min\": 0.0,\n        \"max\": 23492.0,\n        \"num_unique_values\": 6,\n        \"samples\": [\n          8485.0,\n          173.72916912197996,\n          23492.0\n        ],\n        \"semantic_type\": \"\",\n        \"description\": \"\"\n      }\n    },\n    {\n      \"column\": \"Spa\",\n      \"properties\": {\n        \"dtype\": \"number\",\n        \"std\": 7968.775096084544,\n        \"min\": 0.0,\n        \"max\": 22408.0,\n        \"num_unique_values\": 6,\n        \"samples\": [\n          8510.0,\n          311.1387779083431,\n          22408.0\n        ],\n        \"semantic_type\": \"\",\n        \"description\": \"\"\n      }\n    },\n    {\n      \"column\": \"VRDeck\",\n      \"properties\": {\n        \"dtype\": \"number\",\n        \"std\": 8539.808535720747,\n        \"min\": 0.0,\n        \"max\": 24133.0,\n        \"num_unique_values\": 6,\n        \"samples\": [\n          8505.0,\n          304.8547912992357,\n          24133.0\n        ],\n        \"semantic_type\": \"\",\n        \"description\": \"\"\n      }\n    }\n  ]\n}"
            }
          },
          "metadata": {},
          "execution_count": 450
        }
      ]
    },
    {
      "cell_type": "code",
      "source": [
        "df.info()\n",
        "df.isnull().sum()"
      ],
      "metadata": {
        "colab": {
          "base_uri": "https://localhost:8080/"
        },
        "id": "ov_mx6KF9Ypq",
        "outputId": "39145756-8a7b-4165-a35a-174befa5a015"
      },
      "execution_count": null,
      "outputs": [
        {
          "output_type": "stream",
          "name": "stdout",
          "text": [
            "<class 'pandas.core.frame.DataFrame'>\n",
            "RangeIndex: 8693 entries, 0 to 8692\n",
            "Data columns (total 14 columns):\n",
            " #   Column        Non-Null Count  Dtype  \n",
            "---  ------        --------------  -----  \n",
            " 0   PassengerId   8693 non-null   object \n",
            " 1   HomePlanet    8492 non-null   object \n",
            " 2   CryoSleep     8476 non-null   object \n",
            " 3   Cabin         8494 non-null   object \n",
            " 4   Destination   8511 non-null   object \n",
            " 5   Age           8514 non-null   float64\n",
            " 6   VIP           8490 non-null   object \n",
            " 7   RoomService   8512 non-null   float64\n",
            " 8   FoodCourt     8510 non-null   float64\n",
            " 9   ShoppingMall  8485 non-null   float64\n",
            " 10  Spa           8510 non-null   float64\n",
            " 11  VRDeck        8505 non-null   float64\n",
            " 12  Name          8493 non-null   object \n",
            " 13  Transported   8693 non-null   bool   \n",
            "dtypes: bool(1), float64(6), object(7)\n",
            "memory usage: 891.5+ KB\n"
          ]
        },
        {
          "output_type": "execute_result",
          "data": {
            "text/plain": [
              "PassengerId       0\n",
              "HomePlanet      201\n",
              "CryoSleep       217\n",
              "Cabin           199\n",
              "Destination     182\n",
              "Age             179\n",
              "VIP             203\n",
              "RoomService     181\n",
              "FoodCourt       183\n",
              "ShoppingMall    208\n",
              "Spa             183\n",
              "VRDeck          188\n",
              "Name            200\n",
              "Transported       0\n",
              "dtype: int64"
            ]
          },
          "metadata": {},
          "execution_count": 451
        }
      ]
    },
    {
      "cell_type": "markdown",
      "source": [
        "Handling Missing Values"
      ],
      "metadata": {
        "id": "MMEt3U6Uz7mx"
      }
    },
    {
      "cell_type": "code",
      "source": [
        "mode_value = df['CryoSleep'].mode()[0]\n",
        "df['CryoSleep'].fillna(mode_value, inplace=True)\n",
        "\n",
        "mode_value = df_test['CryoSleep'].mode()[0]\n",
        "df_test['CryoSleep'].fillna(mode_value, inplace=True)"
      ],
      "metadata": {
        "id": "q63uzGKpz9dO"
      },
      "execution_count": null,
      "outputs": []
    },
    {
      "cell_type": "code",
      "source": [
        "mode_value = df['HomePlanet'].mode()[0]\n",
        "df['HomePlanet'].fillna(mode_value, inplace=True)\n",
        "\n",
        "mode_value = df_test['HomePlanet'].mode()[0]\n",
        "df_test['HomePlanet'].fillna(mode_value, inplace=True)"
      ],
      "metadata": {
        "id": "lyPCVYpZ00Nj"
      },
      "execution_count": null,
      "outputs": []
    },
    {
      "cell_type": "code",
      "source": [
        "mode_value = df['Destination'].mode()[0]\n",
        "df['Destination'].fillna(mode_value, inplace=True)\n",
        "\n",
        "mode_value = df_test['Destination'].mode()[0]\n",
        "df_test['Destination'].fillna(mode_value, inplace=True)"
      ],
      "metadata": {
        "id": "Wwu_FoGD2ggo"
      },
      "execution_count": null,
      "outputs": []
    },
    {
      "cell_type": "code",
      "source": [
        "mode_value = df['Cabin'].mode()[0]\n",
        "df['Cabin'].fillna(mode_value, inplace=True)\n",
        "\n",
        "mode_value = df_test['Cabin'].mode()[0]\n",
        "df_test['Cabin'].fillna(mode_value, inplace=True)"
      ],
      "metadata": {
        "id": "xXEnplG81uOx"
      },
      "execution_count": null,
      "outputs": []
    },
    {
      "cell_type": "code",
      "source": [
        "df[\"Age\"].fillna(df[\"Age\"].mean(), inplace=True)\n",
        "\n",
        "df_test[\"Age\"].fillna(df_test[\"Age\"].mean(), inplace=True)"
      ],
      "metadata": {
        "id": "Bf1qh0aa15PW"
      },
      "execution_count": null,
      "outputs": []
    },
    {
      "cell_type": "code",
      "source": [
        "mode_value = df['VIP'].mode()[0]\n",
        "df['VIP'].fillna(mode_value, inplace=True)\n",
        "\n",
        "mode_value = df_test['VIP'].mode()[0]\n",
        "df_test['VIP'].fillna(mode_value, inplace=True)"
      ],
      "metadata": {
        "id": "aAbJ2INp1-J8"
      },
      "execution_count": null,
      "outputs": []
    },
    {
      "cell_type": "code",
      "source": [
        "df[\"RoomService\"].fillna(df[\"RoomService\"].mean(), inplace=True)\n",
        "\n",
        "df_test[\"RoomService\"].fillna(df_test[\"RoomService\"].mean(), inplace=True)"
      ],
      "metadata": {
        "id": "QM1PSDnQ2Bxo"
      },
      "execution_count": null,
      "outputs": []
    },
    {
      "cell_type": "code",
      "source": [
        "df[\"FoodCourt\"].fillna(df[\"FoodCourt\"].mean(), inplace=True)\n",
        "\n",
        "df_test[\"FoodCourt\"].fillna(df_test[\"FoodCourt\"].mean(), inplace=True)"
      ],
      "metadata": {
        "id": "pV7B2XA_2GYt"
      },
      "execution_count": null,
      "outputs": []
    },
    {
      "cell_type": "code",
      "source": [
        "df[\"ShoppingMall\"].fillna(df[\"ShoppingMall\"].mean(), inplace=True)\n",
        "\n",
        "df_test[\"ShoppingMall\"].fillna(df_test[\"ShoppingMall\"].mean(), inplace=True)"
      ],
      "metadata": {
        "id": "55zHJY5-2KoR"
      },
      "execution_count": null,
      "outputs": []
    },
    {
      "cell_type": "code",
      "source": [
        "df[\"Spa\"].fillna(df[\"Spa\"].mean(), inplace=True)\n",
        "\n",
        "df_test[\"Spa\"].fillna(df_test[\"Spa\"].mean(), inplace=True)"
      ],
      "metadata": {
        "id": "Kl15tFSJ2PKz"
      },
      "execution_count": null,
      "outputs": []
    },
    {
      "cell_type": "code",
      "source": [
        "df[\"VRDeck\"].fillna(df[\"VRDeck\"].mean(), inplace=True)\n",
        "\n",
        "df_test[\"VRDeck\"].fillna(df_test[\"VRDeck\"].mean(), inplace=True)"
      ],
      "metadata": {
        "id": "7SluqJRW2SKE"
      },
      "execution_count": null,
      "outputs": []
    },
    {
      "cell_type": "code",
      "source": [
        "df_test.isnull().sum()"
      ],
      "metadata": {
        "colab": {
          "base_uri": "https://localhost:8080/"
        },
        "id": "unuhs-rk2ddo",
        "outputId": "3bceda8f-0dc0-4e91-c914-dcbfb781390d"
      },
      "execution_count": null,
      "outputs": [
        {
          "output_type": "execute_result",
          "data": {
            "text/plain": [
              "PassengerId      0\n",
              "HomePlanet       0\n",
              "CryoSleep        0\n",
              "Cabin            0\n",
              "Destination      0\n",
              "Age              0\n",
              "VIP              0\n",
              "RoomService      0\n",
              "FoodCourt        0\n",
              "ShoppingMall     0\n",
              "Spa              0\n",
              "VRDeck           0\n",
              "Name            94\n",
              "dtype: int64"
            ]
          },
          "metadata": {},
          "execution_count": 463
        }
      ]
    },
    {
      "cell_type": "code",
      "source": [
        "correlation = df.corr()\n",
        "plt.figure(figsize=(10,10))\n",
        "sns.heatmap(correlation, cbar=True, square=True, fmt='.1f', annot=True, annot_kws={\"size\":8}, cmap=\"Blues\")"
      ],
      "metadata": {
        "id": "P_nx9he6ugFH",
        "colab": {
          "base_uri": "https://localhost:8080/",
          "height": 689
        },
        "outputId": "8abcbad0-9702-40a4-d265-98c41d8def83"
      },
      "execution_count": null,
      "outputs": [
        {
          "output_type": "stream",
          "name": "stderr",
          "text": [
            "<ipython-input-464-6ab3a4ed6d57>:1: FutureWarning: The default value of numeric_only in DataFrame.corr is deprecated. In a future version, it will default to False. Select only valid columns or specify the value of numeric_only to silence this warning.\n",
            "  correlation = df.corr()\n"
          ]
        },
        {
          "output_type": "execute_result",
          "data": {
            "text/plain": [
              "<Axes: >"
            ]
          },
          "metadata": {},
          "execution_count": 464
        },
        {
          "output_type": "display_data",
          "data": {
            "text/plain": [
              "<Figure size 1000x1000 with 2 Axes>"
            ],
            "image/png": "[encoded data removed]"
          },
          "metadata": {}
        }
      ]
    },
    {
      "cell_type": "markdown",
      "source": [
        "Encoding"
      ],
      "metadata": {
        "id": "DWmudVJwyadQ"
      }
    },
    {
      "cell_type": "code",
      "source": [
        "df.replace({\"CryoSleep\":{True: 1, False: 0},\n",
        "             \"VIP\": {True:1, False:0},\n",
        "            \"HomePlanet\": {\"Earth\":0, \"Mars\":1, \"Europa\":2},\n",
        "            \"Destination\": {\"TRAPPIST-1e\":0, \"55 Cancri e\":1, \"PSO J318.5-22\":2},\n",
        "             \"Transported\": {True:1, False:0}}, inplace=True)\n",
        "\n",
        "#for test data\n",
        "df_test.replace({\"CryoSleep\":{True: 1, False: 0},\n",
        "             \"VIP\": {True:1, False:0},\n",
        "            \"HomePlanet\": {\"Earth\":0, \"Mars\":1, \"Europa\":2},\n",
        "            \"Destination\": {\"TRAPPIST-1e\":0, \"55 Cancri e\":1, \"PSO J318.5-22\":2},\n",
        "             \"Transported\": {True:1, False:0}}, inplace=True)"
      ],
      "metadata": {
        "id": "CqMFYTTEwzpB"
      },
      "execution_count": null,
      "outputs": []
    },
    {
      "cell_type": "code",
      "source": [
        "plot = plt.figure(figsize=(5,5))\n",
        "sns.barplot(x=\"VIP\", y=\"Transported\", data=df)"
      ],
      "metadata": {
        "colab": {
          "base_uri": "https://localhost:8080/",
          "height": 482
        },
        "id": "X3UhVnf7uzzh",
        "outputId": "abd5b07a-8250-46cc-d3ba-d8cf9e8aab81"
      },
      "execution_count": null,
      "outputs": [
        {
          "output_type": "execute_result",
          "data": {
            "text/plain": [
              "<Axes: xlabel='VIP', ylabel='Transported'>"
            ]
          },
          "metadata": {},
          "execution_count": 466
        },
        {
          "output_type": "display_data",
          "data": {
            "text/plain": [
              "<Figure size 500x500 with 1 Axes>"
            ],
            "image/png": "[encoded data removed]"
          },
          "metadata": {}
        }
      ]
    },
    {
      "cell_type": "code",
      "source": [
        "plot = plt.figure(figsize=(10,10))\n",
        "sns.barplot(x=\"Age\", y=\"Transported\", data=df)"
      ],
      "metadata": {
        "colab": {
          "base_uri": "https://localhost:8080/",
          "height": 646
        },
        "id": "Zfi0939xCTGY",
        "outputId": "d2e58e81-d020-4b0d-e22f-3c6e2cdc42d5"
      },
      "execution_count": null,
      "outputs": [
        {
          "output_type": "execute_result",
          "data": {
            "text/plain": [
              "<Axes: xlabel='Age', ylabel='Transported'>"
            ]
          },
          "metadata": {},
          "execution_count": 467
        },
        {
          "output_type": "display_data",
          "data": {
            "text/plain": [
              "<Figure size 1000x1000 with 1 Axes>"
            ],
            "image/png": "[encoded data removed]"
          },
          "metadata": {}
        }
      ]
    },
    {
      "cell_type": "code",
      "source": [
        "plot = plt.figure(figsize=(5,5))\n",
        "sns.barplot(x=\"CryoSleep\", y=\"Transported\", data=df)"
      ],
      "metadata": {
        "colab": {
          "base_uri": "https://localhost:8080/",
          "height": 482
        },
        "id": "fiE-ul9LC1pb",
        "outputId": "6fa944ba-469b-41a6-9f59-23aa54457f45"
      },
      "execution_count": null,
      "outputs": [
        {
          "output_type": "execute_result",
          "data": {
            "text/plain": [
              "<Axes: xlabel='CryoSleep', ylabel='Transported'>"
            ]
          },
          "metadata": {},
          "execution_count": 468
        },
        {
          "output_type": "display_data",
          "data": {
            "text/plain": [
              "<Figure size 500x500 with 1 Axes>"
            ],
            "image/png": "[encoded data removed]"
          },
          "metadata": {}
        }
      ]
    },
    {
      "cell_type": "code",
      "source": [
        "plot = plt.figure(figsize=(5,5))\n",
        "sns.barplot(x=\"HomePlanet\", y=\"Transported\", data=df)"
      ],
      "metadata": {
        "colab": {
          "base_uri": "https://localhost:8080/",
          "height": 482
        },
        "id": "gTAA-TfMDGxN",
        "outputId": "97f7ee2b-9ef8-4c22-9d75-a43d4a805395"
      },
      "execution_count": null,
      "outputs": [
        {
          "output_type": "execute_result",
          "data": {
            "text/plain": [
              "<Axes: xlabel='HomePlanet', ylabel='Transported'>"
            ]
          },
          "metadata": {},
          "execution_count": 469
        },
        {
          "output_type": "display_data",
          "data": {
            "text/plain": [
              "<Figure size 500x500 with 1 Axes>"
            ],
            "image/png": "[encoded data removed]"
          },
          "metadata": {}
        }
      ]
    },
    {
      "cell_type": "code",
      "source": [
        "plot = plt.figure(figsize=(5,5))\n",
        "sns.barplot(x=\"Destination\", y=\"Transported\", data=df)"
      ],
      "metadata": {
        "colab": {
          "base_uri": "https://localhost:8080/",
          "height": 482
        },
        "id": "ZkQyVFjTDLu5",
        "outputId": "00eedf62-2d38-4a5b-e42a-5446ed579b37"
      },
      "execution_count": null,
      "outputs": [
        {
          "output_type": "execute_result",
          "data": {
            "text/plain": [
              "<Axes: xlabel='Destination', ylabel='Transported'>"
            ]
          },
          "metadata": {},
          "execution_count": 470
        },
        {
          "output_type": "display_data",
          "data": {
            "text/plain": [
              "<Figure size 500x500 with 1 Axes>"
            ],
            "image/png": "[encoded data removed]"
          },
          "metadata": {}
        }
      ]
    },
    {
      "cell_type": "code",
      "source": [
        "df_test.info()"
      ],
      "metadata": {
        "colab": {
          "base_uri": "https://localhost:8080/"
        },
        "id": "pLJGe_z7epL5",
        "outputId": "41d86310-9f9c-431a-ac05-03eed0225b1c"
      },
      "execution_count": null,
      "outputs": [
        {
          "output_type": "stream",
          "name": "stdout",
          "text": [
            "<class 'pandas.core.frame.DataFrame'>\n",
            "RangeIndex: 4277 entries, 0 to 4276\n",
            "Data columns (total 13 columns):\n",
            " #   Column        Non-Null Count  Dtype  \n",
            "---  ------        --------------  -----  \n",
            " 0   PassengerId   4277 non-null   object \n",
            " 1   HomePlanet    4277 non-null   int64  \n",
            " 2   CryoSleep     4277 non-null   int64  \n",
            " 3   Cabin         4277 non-null   object \n",
            " 4   Destination   4277 non-null   int64  \n",
            " 5   Age           4277 non-null   float64\n",
            " 6   VIP           4277 non-null   int64  \n",
            " 7   RoomService   4277 non-null   float64\n",
            " 8   FoodCourt     4277 non-null   float64\n",
            " 9   ShoppingMall  4277 non-null   float64\n",
            " 10  Spa           4277 non-null   float64\n",
            " 11  VRDeck        4277 non-null   float64\n",
            " 12  Name          4183 non-null   object \n",
            "dtypes: float64(6), int64(4), object(3)\n",
            "memory usage: 434.5+ KB\n"
          ]
        }
      ]
    },
    {
      "cell_type": "markdown",
      "source": [
        "Scaling"
      ],
      "metadata": {
        "id": "ZMuif6gdA7YL"
      }
    },
    {
      "cell_type": "code",
      "source": [
        "scaler = StandardScaler()\n",
        "df[['Age', 'ShoppingMall', 'FoodCourt', 'VRDeck', 'Spa', 'RoomService']] = scaler.fit_transform(df[['Age', 'ShoppingMall', 'FoodCourt', 'VRDeck', 'Spa', 'RoomService']])\n",
        "\n",
        "#test data\n",
        "scaler = StandardScaler()\n",
        "df_test[['Age', 'ShoppingMall', 'FoodCourt', 'VRDeck', 'Spa', 'RoomService']] = scaler.fit_transform(df_test[['Age', 'ShoppingMall', 'FoodCourt', 'VRDeck', 'Spa', 'RoomService']])"
      ],
      "metadata": {
        "id": "Gtv_f9csA8dt"
      },
      "execution_count": null,
      "outputs": []
    },
    {
      "cell_type": "code",
      "source": [
        "X = df.drop(columns = [\"Name\", \"Cabin\", \"PassengerId\", \"Transported\"])\n",
        "Y = df[\"Transported\"]\n",
        "\n",
        "X_t = df_test.drop(columns = [\"Name\", \"Cabin\", \"PassengerId\"])\n",
        "X_t"
      ],
      "metadata": {
        "colab": {
          "base_uri": "https://localhost:8080/",
          "height": 530
        },
        "id": "W4Sn983aGOb0",
        "outputId": "9158b97e-fd63-4b57-afa5-29aae4982da2"
      },
      "execution_count": null,
      "outputs": [
        {
          "output_type": "execute_result",
          "data": {
            "text/plain": [
              "      HomePlanet  CryoSleep  Destination           Age  VIP  RoomService  \\\n",
              "0              0          1            0 -1.182216e-01    0    -0.364780   \n",
              "1              0          0            0 -6.886014e-01    0    -0.364780   \n",
              "2              2          1            1  1.669682e-01    0    -0.364780   \n",
              "3              2          0            0  6.660505e-01    0    -0.364780   \n",
              "4              0          0            0 -6.173039e-01    0    -0.348143   \n",
              "...          ...        ...          ...           ...  ...          ...   \n",
              "4272           0          1            0  3.808606e-01    0    -0.364780   \n",
              "4273           0          0            0  9.512404e-01    0    -0.364780   \n",
              "4274           1          1            1 -2.532995e-16    0    -0.364780   \n",
              "4275           2          0            0 -2.532995e-16    0    -0.364780   \n",
              "4276           0          1            2  1.022538e+00    0    -0.364780   \n",
              "\n",
              "      FoodCourt  ShoppingMall       Spa    VRDeck  \n",
              "0     -0.291352     -0.319859 -0.274558 -0.251561  \n",
              "1     -0.285385     -0.319859  2.283008 -0.251561  \n",
              "2     -0.291352     -0.319859 -0.274558 -0.251561  \n",
              "3      4.118523     -0.319859 -0.110576  0.222074  \n",
              "4     -0.291352      0.825745 -0.274558 -0.251561  \n",
              "...         ...           ...       ...       ...  \n",
              "4272  -0.291352     -0.319859 -0.274558 -0.251561  \n",
              "4273   0.270158     -0.289189 -0.265498 -0.134974  \n",
              "4274  -0.291352     -0.319859 -0.274558 -0.251561  \n",
              "4275   1.485327     -0.319859 -0.274558  0.171877  \n",
              "4276  -0.291352     -0.319859 -0.274558 -0.251561  \n",
              "\n",
              "[4277 rows x 10 columns]"
            ],
            "text/html": [
              "\n",
              "  <div id=\"df-ec619b1b-be11-46db-9a52-b0a3fa25ee13\" class=\"colab-df-container\">\n",
              "    <div>\n",
              "<style scoped>\n",
              "    .dataframe tbody tr th:only-of-type {\n",
              "        vertical-align: middle;\n",
              "    }\n",
              "\n",
              "    .dataframe tbody tr th {\n",
              "        vertical-align: top;\n",
              "    }\n",
              "\n",
              "    .dataframe thead th {\n",
              "        text-align: right;\n",
              "    }\n",
              "</style>\n",
              "<table border=\"1\" class=\"dataframe\">\n",
              "  <thead>\n",
              "    <tr style=\"text-align: right;\">\n",
              "      <th></th>\n",
              "      <th>HomePlanet</th>\n",
              "      <th>CryoSleep</th>\n",
              "      <th>Destination</th>\n",
              "      <th>Age</th>\n",
              "      <th>VIP</th>\n",
              "      <th>RoomService</th>\n",
              "      <th>FoodCourt</th>\n",
              "      <th>ShoppingMall</th>\n",
              "      <th>Spa</th>\n",
              "      <th>VRDeck</th>\n",
              "    </tr>\n",
              "  </thead>\n",
              "  <tbody>\n",
              "    <tr>\n",
              "      <th>0</th>\n",
              "      <td>0</td>\n",
              "      <td>1</td>\n",
              "      <td>0</td>\n",
              "      <td>-1.182216e-01</td>\n",
              "      <td>0</td>\n",
              "      <td>-0.364780</td>\n",
              "      <td>-0.291352</td>\n",
              "      <td>-0.319859</td>\n",
              "      <td>-0.274558</td>\n",
              "      <td>-0.251561</td>\n",
              "    </tr>\n",
              "    <tr>\n",
              "      <th>1</th>\n",
              "      <td>0</td>\n",
              "      <td>0</td>\n",
              "      <td>0</td>\n",
              "      <td>-6.886014e-01</td>\n",
              "      <td>0</td>\n",
              "      <td>-0.364780</td>\n",
              "      <td>-0.285385</td>\n",
              "      <td>-0.319859</td>\n",
              "      <td>2.283008</td>\n",
              "      <td>-0.251561</td>\n",
              "    </tr>\n",
              "    <tr>\n",
              "      <th>2</th>\n",
              "      <td>2</td>\n",
              "      <td>1</td>\n",
              "      <td>1</td>\n",
              "      <td>1.669682e-01</td>\n",
              "      <td>0</td>\n",
              "      <td>-0.364780</td>\n",
              "      <td>-0.291352</td>\n",
              "      <td>-0.319859</td>\n",
              "      <td>-0.274558</td>\n",
              "      <td>-0.251561</td>\n",
              "    </tr>\n",
              "    <tr>\n",
              "      <th>3</th>\n",
              "      <td>2</td>\n",
              "      <td>0</td>\n",
              "      <td>0</td>\n",
              "      <td>6.660505e-01</td>\n",
              "      <td>0</td>\n",
              "      <td>-0.364780</td>\n",
              "      <td>4.118523</td>\n",
              "      <td>-0.319859</td>\n",
              "      <td>-0.110576</td>\n",
              "      <td>0.222074</td>\n",
              "    </tr>\n",
              "    <tr>\n",
              "      <th>4</th>\n",
              "      <td>0</td>\n",
              "      <td>0</td>\n",
              "      <td>0</td>\n",
              "      <td>-6.173039e-01</td>\n",
              "      <td>0</td>\n",
              "      <td>-0.348143</td>\n",
              "      <td>-0.291352</td>\n",
              "      <td>0.825745</td>\n",
              "      <td>-0.274558</td>\n",
              "      <td>-0.251561</td>\n",
              "    </tr>\n",
              "    <tr>\n",
              "      <th>...</th>\n",
              "      <td>...</td>\n",
              "      <td>...</td>\n",
              "      <td>...</td>\n",
              "      <td>...</td>\n",
              "      <td>...</td>\n",
              "      <td>...</td>\n",
              "      <td>...</td>\n",
              "      <td>...</td>\n",
              "      <td>...</td>\n",
              "      <td>...</td>\n",
              "    </tr>\n",
              "    <tr>\n",
              "      <th>4272</th>\n",
              "      <td>0</td>\n",
              "      <td>1</td>\n",
              "      <td>0</td>\n",
              "      <td>3.808606e-01</td>\n",
              "      <td>0</td>\n",
              "      <td>-0.364780</td>\n",
              "      <td>-0.291352</td>\n",
              "      <td>-0.319859</td>\n",
              "      <td>-0.274558</td>\n",
              "      <td>-0.251561</td>\n",
              "    </tr>\n",
              "    <tr>\n",
              "      <th>4273</th>\n",
              "      <td>0</td>\n",
              "      <td>0</td>\n",
              "      <td>0</td>\n",
              "      <td>9.512404e-01</td>\n",
              "      <td>0</td>\n",
              "      <td>-0.364780</td>\n",
              "      <td>0.270158</td>\n",
              "      <td>-0.289189</td>\n",
              "      <td>-0.265498</td>\n",
              "      <td>-0.134974</td>\n",
              "    </tr>\n",
              "    <tr>\n",
              "      <th>4274</th>\n",
              "      <td>1</td>\n",
              "      <td>1</td>\n",
              "      <td>1</td>\n",
              "      <td>-2.532995e-16</td>\n",
              "      <td>0</td>\n",
              "      <td>-0.364780</td>\n",
              "      <td>-0.291352</td>\n",
              "      <td>-0.319859</td>\n",
              "      <td>-0.274558</td>\n",
              "      <td>-0.251561</td>\n",
              "    </tr>\n",
              "    <tr>\n",
              "      <th>4275</th>\n",
              "      <td>2</td>\n",
              "      <td>0</td>\n",
              "      <td>0</td>\n",
              "      <td>-2.532995e-16</td>\n",
              "      <td>0</td>\n",
              "      <td>-0.364780</td>\n",
              "      <td>1.485327</td>\n",
              "      <td>-0.319859</td>\n",
              "      <td>-0.274558</td>\n",
              "      <td>0.171877</td>\n",
              "    </tr>\n",
              "    <tr>\n",
              "      <th>4276</th>\n",
              "      <td>0</td>\n",
              "      <td>1</td>\n",
              "      <td>2</td>\n",
              "      <td>1.022538e+00</td>\n",
              "      <td>0</td>\n",
              "      <td>-0.364780</td>\n",
              "      <td>-0.291352</td>\n",
              "      <td>-0.319859</td>\n",
              "      <td>-0.274558</td>\n",
              "      <td>-0.251561</td>\n",
              "    </tr>\n",
              "  </tbody>\n",
              "</table>\n",
              "<p>4277 rows × 10 columns</p>\n",
              "</div>\n",
              "    <div class=\"colab-df-buttons\">\n",
              "\n",
              "  <div class=\"colab-df-container\">\n",
              "    <button class=\"colab-df-convert\" onclick=\"convertToInteractive('df-ec619b1b-be11-46db-9a52-b0a3fa25ee13')\"\n",
              "            title=\"Convert this dataframe to an interactive table.\"\n",
              "            style=\"display:none;\">\n",
              "\n",
              "  <svg xmlns=\"http://www.w3.org/2000/svg\" height=\"24px\" viewBox=\"0 -960 960 960\">\n",
              "    <path d=\"M120-120v-720h720v720H120Zm60-500h600v-160H180v160Zm220 220h160v-160H400v160Zm0 220h160v-160H400v160ZM180-400h160v-160H180v160Zm440 0h160v-160H620v160ZM180-180h160v-160H180v160Zm440 0h160v-160H620v160Z\"/>\n",
              "  </svg>\n",
              "    </button>\n",
              "\n",
              "  <style>\n",
              "    .colab-df-container {\n",
              "      display:flex;\n",
              "      gap: 12px;\n",
              "    }\n",
              "\n",
              "    .colab-df-convert {\n",
              "      background-color: #E8F0FE;\n",
              "      border: none;\n",
              "      border-radius: 50%;\n",
              "      cursor: pointer;\n",
              "      display: none;\n",
              "      fill: #1967D2;\n",
              "      height: 32px;\n",
              "      padding: 0 0 0 0;\n",
              "      width: 32px;\n",
              "    }\n",
              "\n",
              "    .colab-df-convert:hover {\n",
              "      background-color: #E2EBFA;\n",
              "      box-shadow: 0px 1px 2px rgba(60, 64, 67, 0.3), 0px 1px 3px 1px rgba(60, 64, 67, 0.15);\n",
              "      fill: #174EA6;\n",
              "    }\n",
              "\n",
              "    .colab-df-buttons div {\n",
              "      margin-bottom: 4px;\n",
              "    }\n",
              "\n",
              "    [theme=dark] .colab-df-convert {\n",
              "      background-color: #3B4455;\n",
              "      fill: #D2E3FC;\n",
              "    }\n",
              "\n",
              "    [theme=dark] .colab-df-convert:hover {\n",
              "      background-color: #434B5C;\n",
              "      box-shadow: 0px 1px 3px 1px rgba(0, 0, 0, 0.15);\n",
              "      filter: drop-shadow(0px 1px 2px rgba(0, 0, 0, 0.3));\n",
              "      fill: #FFFFFF;\n",
              "    }\n",
              "  </style>\n",
              "\n",
              "    <script>\n",
              "      const buttonEl =\n",
              "        document.querySelector('#df-ec619b1b-be11-46db-9a52-b0a3fa25ee13 button.colab-df-convert');\n",
              "      buttonEl.style.display =\n",
              "        google.colab.kernel.accessAllowed ? 'block' : 'none';\n",
              "\n",
              "      async function convertToInteractive(key) {\n",
              "        const element = document.querySelector('#df-ec619b1b-be11-46db-9a52-b0a3fa25ee13');\n",
              "        const dataTable =\n",
              "          await google.colab.kernel.invokeFunction('convertToInteractive',\n",
              "                                                    [key], {});\n",
              "        if (!dataTable) return;\n",
              "\n",
              "        const docLinkHtml = 'Like what you see? Visit the ' +\n",
              "          '<a target=\"_blank\" href=https://colab.research.google.com/notebooks/data_table.ipynb>data table notebook</a>'\n",
              "          + ' to learn more about interactive tables.';\n",
              "        element.innerHTML = '';\n",
              "        dataTable['output_type'] = 'display_data';\n",
              "        await google.colab.output.renderOutput(dataTable, element);\n",
              "        const docLink = document.createElement('div');\n",
              "        docLink.innerHTML = docLinkHtml;\n",
              "        element.appendChild(docLink);\n",
              "      }\n",
              "    </script>\n",
              "  </div>\n",
              "\n",
              "\n",
              "<div id=\"df-9a4b240d-7d2d-4889-a860-1badbd937328\">\n",
              "  <button class=\"colab-df-quickchart\" onclick=\"quickchart('df-9a4b240d-7d2d-4889-a860-1badbd937328')\"\n",
              "            title=\"Suggest charts\"\n",
              "            style=\"display:none;\">\n",
              "\n",
              "<svg xmlns=\"http://www.w3.org/2000/svg\" height=\"24px\"viewBox=\"0 0 24 24\"\n",
              "     width=\"24px\">\n",
              "    <g>\n",
              "        <path d=\"M19 3H5c-1.1 0-2 .9-2 2v14c0 1.1.9 2 2 2h14c1.1 0 2-.9 2-2V5c0-1.1-.9-2-2-2zM9 17H7v-7h2v7zm4 0h-2V7h2v10zm4 0h-2v-4h2v4z\"/>\n",
              "    </g>\n",
              "</svg>\n",
              "  </button>\n",
              "\n",
              "<style>\n",
              "  .colab-df-quickchart {\n",
              "      --bg-color: #E8F0FE;\n",
              "      --fill-color: #1967D2;\n",
              "      --hover-bg-color: #E2EBFA;\n",
              "      --hover-fill-color: #174EA6;\n",
              "      --disabled-fill-color: #AAA;\n",
              "      --disabled-bg-color: #DDD;\n",
              "  }\n",
              "\n",
              "  [theme=dark] .colab-df-quickchart {\n",
              "      --bg-color: #3B4455;\n",
              "      --fill-color: #D2E3FC;\n",
              "      --hover-bg-color: #434B5C;\n",
              "      --hover-fill-color: #FFFFFF;\n",
              "      --disabled-bg-color: #3B4455;\n",
              "      --disabled-fill-color: #666;\n",
              "  }\n",
              "\n",
              "  .colab-df-quickchart {\n",
              "    background-color: var(--bg-color);\n",
              "    border: none;\n",
              "    border-radius: 50%;\n",
              "    cursor: pointer;\n",
              "    display: none;\n",
              "    fill: var(--fill-color);\n",
              "    height: 32px;\n",
              "    padding: 0;\n",
              "    width: 32px;\n",
              "  }\n",
              "\n",
              "  .colab-df-quickchart:hover {\n",
              "    background-color: var(--hover-bg-color);\n",
              "    box-shadow: 0 1px 2px rgba(60, 64, 67, 0.3), 0 1px 3px 1px rgba(60, 64, 67, 0.15);\n",
              "    fill: var(--button-hover-fill-color);\n",
              "  }\n",
              "\n",
              "  .colab-df-quickchart-complete:disabled,\n",
              "  .colab-df-quickchart-complete:disabled:hover {\n",
              "    background-color: var(--disabled-bg-color);\n",
              "    fill: var(--disabled-fill-color);\n",
              "    box-shadow: none;\n",
              "  }\n",
              "\n",
              "  .colab-df-spinner {\n",
              "    border: 2px solid var(--fill-color);\n",
              "    border-color: transparent;\n",
              "    border-bottom-color: var(--fill-color);\n",
              "    animation:\n",
              "      spin 1s steps(1) infinite;\n",
              "  }\n",
              "\n",
              "  @keyframes spin {\n",
              "    0% {\n",
              "      border-color: transparent;\n",
              "      border-bottom-color: var(--fill-color);\n",
              "      border-left-color: var(--fill-color);\n",
              "    }\n",
              "    20% {\n",
              "      border-color: transparent;\n",
              "      border-left-color: var(--fill-color);\n",
              "      border-top-color: var(--fill-color);\n",
              "    }\n",
              "    30% {\n",
              "      border-color: transparent;\n",
              "      border-left-color: var(--fill-color);\n",
              "      border-top-color: var(--fill-color);\n",
              "      border-right-color: var(--fill-color);\n",
              "    }\n",
              "    40% {\n",
              "      border-color: transparent;\n",
              "      border-right-color: var(--fill-color);\n",
              "      border-top-color: var(--fill-color);\n",
              "    }\n",
              "    60% {\n",
              "      border-color: transparent;\n",
              "      border-right-color: var(--fill-color);\n",
              "    }\n",
              "    80% {\n",
              "      border-color: transparent;\n",
              "      border-right-color: var(--fill-color);\n",
              "      border-bottom-color: var(--fill-color);\n",
              "    }\n",
              "    90% {\n",
              "      border-color: transparent;\n",
              "      border-bottom-color: var(--fill-color);\n",
              "    }\n",
              "  }\n",
              "</style>\n",
              "\n",
              "  <script>\n",
              "    async function quickchart(key) {\n",
              "      const quickchartButtonEl =\n",
              "        document.querySelector('#' + key + ' button');\n",
              "      quickchartButtonEl.disabled = true;  // To prevent multiple clicks.\n",
              "      quickchartButtonEl.classList.add('colab-df-spinner');\n",
              "      try {\n",
              "        const charts = await google.colab.kernel.invokeFunction(\n",
              "            'suggestCharts', [key], {});\n",
              "      } catch (error) {\n",
              "        console.error('Error during call to suggestCharts:', error);\n",
              "      }\n",
              "      quickchartButtonEl.classList.remove('colab-df-spinner');\n",
              "      quickchartButtonEl.classList.add('colab-df-quickchart-complete');\n",
              "    }\n",
              "    (() => {\n",
              "      let quickchartButtonEl =\n",
              "        document.querySelector('#df-9a4b240d-7d2d-4889-a860-1badbd937328 button');\n",
              "      quickchartButtonEl.style.display =\n",
              "        google.colab.kernel.accessAllowed ? 'block' : 'none';\n",
              "    })();\n",
              "  </script>\n",
              "</div>\n",
              "\n",
              "  <div id=\"id_d97884e7-da22-40fc-a436-ee11413f4b0d\">\n",
              "    <style>\n",
              "      .colab-df-generate {\n",
              "        background-color: #E8F0FE;\n",
              "        border: none;\n",
              "        border-radius: 50%;\n",
              "        cursor: pointer;\n",
              "        display: none;\n",
              "        fill: #1967D2;\n",
              "        height: 32px;\n",
              "        padding: 0 0 0 0;\n",
              "        width: 32px;\n",
              "      }\n",
              "\n",
              "      .colab-df-generate:hover {\n",
              "        background-color: #E2EBFA;\n",
              "        box-shadow: 0px 1px 2px rgba(60, 64, 67, 0.3), 0px 1px 3px 1px rgba(60, 64, 67, 0.15);\n",
              "        fill: #174EA6;\n",
              "      }\n",
              "\n",
              "      [theme=dark] .colab-df-generate {\n",
              "        background-color: #3B4455;\n",
              "        fill: #D2E3FC;\n",
              "      }\n",
              "\n",
              "      [theme=dark] .colab-df-generate:hover {\n",
              "        background-color: #434B5C;\n",
              "        box-shadow: 0px 1px 3px 1px rgba(0, 0, 0, 0.15);\n",
              "        filter: drop-shadow(0px 1px 2px rgba(0, 0, 0, 0.3));\n",
              "        fill: #FFFFFF;\n",
              "      }\n",
              "    </style>\n",
              "    <button class=\"colab-df-generate\" onclick=\"generateWithVariable('X_t')\"\n",
              "            title=\"Generate code using this dataframe.\"\n",
              "            style=\"display:none;\">\n",
              "\n",
              "  <svg xmlns=\"http://www.w3.org/2000/svg\" height=\"24px\"viewBox=\"0 0 24 24\"\n",
              "       width=\"24px\">\n",
              "    <path d=\"M7,19H8.4L18.45,9,17,7.55,7,17.6ZM5,21V16.75L18.45,3.32a2,2,0,0,1,2.83,0l1.4,1.43a1.91,1.91,0,0,1,.58,1.4,1.91,1.91,0,0,1-.58,1.4L9.25,21ZM18.45,9,17,7.55Zm-12,3A5.31,5.31,0,0,0,4.9,8.1,5.31,5.31,0,0,0,1,6.5,5.31,5.31,0,0,0,4.9,4.9,5.31,5.31,0,0,0,6.5,1,5.31,5.31,0,0,0,8.1,4.9,5.31,5.31,0,0,0,12,6.5,5.46,5.46,0,0,0,6.5,12Z\"/>\n",
              "  </svg>\n",
              "    </button>\n",
              "    <script>\n",
              "      (() => {\n",
              "      const buttonEl =\n",
              "        document.querySelector('#id_d97884e7-da22-40fc-a436-ee11413f4b0d button.colab-df-generate');\n",
              "      buttonEl.style.display =\n",
              "        google.colab.kernel.accessAllowed ? 'block' : 'none';\n",
              "\n",
              "      buttonEl.onclick = () => {\n",
              "        google.colab.notebook.generateWithVariable('X_t');\n",
              "      }\n",
              "      })();\n",
              "    </script>\n",
              "  </div>\n",
              "\n",
              "    </div>\n",
              "  </div>\n"
            ],
            "application/vnd.google.colaboratory.intrinsic+json": {
              "type": "dataframe",
              "variable_name": "X_t",
              "summary": "{\n  \"name\": \"X_t\",\n  \"rows\": 4277,\n  \"fields\": [\n    {\n      \"column\": \"HomePlanet\",\n      \"properties\": {\n        \"dtype\": \"number\",\n        \"std\": 0,\n        \"min\": 0,\n        \"max\": 2,\n        \"num_unique_values\": 3,\n        \"samples\": [\n          0,\n          2,\n          1\n        ],\n        \"semantic_type\": \"\",\n        \"description\": \"\"\n      }\n    },\n    {\n      \"column\": \"CryoSleep\",\n      \"properties\": {\n        \"dtype\": \"number\",\n        \"std\": 0,\n        \"min\": 0,\n        \"max\": 1,\n        \"num_unique_values\": 2,\n        \"samples\": [\n          0,\n          1\n        ],\n        \"semantic_type\": \"\",\n        \"description\": \"\"\n      }\n    },\n    {\n      \"column\": \"Destination\",\n      \"properties\": {\n        \"dtype\": \"number\",\n        \"std\": 0,\n        \"min\": 0,\n        \"max\": 2,\n        \"num_unique_values\": 3,\n        \"samples\": [\n          0,\n          1\n        ],\n        \"semantic_type\": \"\",\n        \"description\": \"\"\n      }\n    },\n    {\n      \"column\": \"Age\",\n      \"properties\": {\n        \"dtype\": \"number\",\n        \"std\": 1.0001169248761668,\n        \"min\": -2.0432532236293737,\n        \"max\": 3.589246643287026,\n        \"num_unique_values\": 80,\n        \"samples\": [\n          -1.900658290289718,\n          -0.11822162354402194\n        ],\n        \"semantic_type\": \"\",\n        \"description\": \"\"\n      }\n    },\n    {\n      \"column\": \"VIP\",\n      \"properties\": {\n        \"dtype\": \"number\",\n        \"std\": 0,\n        \"min\": 0,\n        \"max\": 1,\n        \"num_unique_values\": 2,\n        \"samples\": [\n          1,\n          0\n        ],\n        \"semantic_type\": \"\",\n        \"description\": \"\"\n      }\n    },\n    {\n      \"column\": \"RoomService\",\n      \"properties\": {\n        \"dtype\": \"number\",\n        \"std\": 1.0001169248761668,\n        \"min\": -0.36477954030921134,\n        \"max\": 18.878512895470905,\n        \"num_unique_values\": 843,\n        \"samples\": [\n          -0.26995221526041163,\n          -0.18177943933784343\n        ],\n        \"semantic_type\": \"\",\n        \"description\": \"\"\n      }\n    },\n    {\n      \"column\": \"FoodCourt\",\n      \"properties\": {\n        \"dtype\": \"number\",\n        \"std\": 1.000116924876167,\n        \"min\": -0.29135158575462655,\n        \"max\": 16.463123348242313,\n        \"num_unique_values\": 903,\n        \"samples\": [\n          1.0882259213734404,\n          -0.14881955114024192\n        ],\n        \"semantic_type\": \"\",\n        \"description\": \"\"\n      }\n    },\n    {\n      \"column\": \"ShoppingMall\",\n      \"properties\": {\n        \"dtype\": \"number\",\n        \"std\": 1.0001169248761668,\n        \"min\": -0.3198591796299276,\n        \"max\": 14.639753105125461,\n        \"num_unique_values\": 716,\n        \"samples\": [\n          -0.17553103409441975,\n          -0.09615055404989044\n        ],\n        \"semantic_type\": \"\",\n        \"description\": \"\"\n      }\n    },\n    {\n      \"column\": \"Spa\",\n      \"properties\": {\n        \"dtype\": \"number\",\n        \"std\": 1.0001169248761668,\n        \"min\": -0.2745577349720794,\n        \"max\": 17.70359696104008,\n        \"num_unique_values\": 834,\n        \"samples\": [\n          0.5254176024890543,\n          1.7294574931865025\n        ],\n        \"semantic_type\": \"\",\n        \"description\": \"\"\n      }\n    },\n    {\n      \"column\": \"VRDeck\",\n      \"properties\": {\n        \"dtype\": \"number\",\n        \"std\": 1.0001169248761668,\n        \"min\": -0.25156055111140185,\n        \"max\": 17.780546673688363,\n        \"num_unique_values\": 797,\n        \"samples\": [\n          2.8736160781866897,\n          0.006711817993803131\n        ],\n        \"semantic_type\": \"\",\n        \"description\": \"\"\n      }\n    }\n  ]\n}"
            }
          },
          "metadata": {},
          "execution_count": 473
        }
      ]
    },
    {
      "cell_type": "markdown",
      "source": [
        "Spliting"
      ],
      "metadata": {
        "id": "Et-ouTB9GzZn"
      }
    },
    {
      "cell_type": "code",
      "source": [
        "X_train, X_test, Y_train, Y_test = train_test_split(X,Y, test_size=0.2)\n",
        "print(X.shape, X_train.shape, X_test.shape)"
      ],
      "metadata": {
        "colab": {
          "base_uri": "https://localhost:8080/"
        },
        "id": "OPBiFjxHGxpS",
        "outputId": "c32b1e73-8c5a-4965-f31f-f39e195c6e51"
      },
      "execution_count": null,
      "outputs": [
        {
          "output_type": "stream",
          "name": "stdout",
          "text": [
            "(8693, 10) (6954, 10) (1739, 10)\n"
          ]
        }
      ]
    },
    {
      "cell_type": "markdown",
      "source": [
        "Model training"
      ],
      "metadata": {
        "id": "YW1QLXgkZXoJ"
      }
    },
    {
      "cell_type": "code",
      "source": [
        "model = LogisticRegression()\n",
        "model.fit(X_train, Y_train)"
      ],
      "metadata": {
        "colab": {
          "base_uri": "https://localhost:8080/",
          "height": 74
        },
        "id": "Nq4dYynYZY2I",
        "outputId": "c0d5ba58-7abd-4fd1-8fd8-672fc43afbce"
      },
      "execution_count": null,
      "outputs": [
        {
          "output_type": "execute_result",
          "data": {
            "text/plain": [
              "LogisticRegression()"
            ],
            "text/html": [
              "<style>#sk-container-id-7 {color: black;background-color: white;}#sk-container-id-7 pre{padding: 0;}#sk-container-id-7 div.sk-toggleable {background-color: white;}#sk-container-id-7 label.sk-toggleable__label {cursor: pointer;display: block;width: 100%;margin-bottom: 0;padding: 0.3em;box-sizing: border-box;text-align: center;}#sk-container-id-7 label.sk-toggleable__label-arrow:before {content: \"▸\";float: left;margin-right: 0.25em;color: #696969;}#sk-container-id-7 label.sk-toggleable__label-arrow:hover:before {color: black;}#sk-container-id-7 div.sk-estimator:hover label.sk-toggleable__label-arrow:before {color: black;}#sk-container-id-7 div.sk-toggleable__content {max-height: 0;max-width: 0;overflow: hidden;text-align: left;background-color: #f0f8ff;}#sk-container-id-7 div.sk-toggleable__content pre {margin: 0.2em;color: black;border-radius: 0.25em;background-color: #f0f8ff;}#sk-container-id-7 input.sk-toggleable__control:checked~div.sk-toggleable__content {max-height: 200px;max-width: 100%;overflow: auto;}#sk-container-id-7 input.sk-toggleable__control:checked~label.sk-toggleable__label-arrow:before {content: \"▾\";}#sk-container-id-7 div.sk-estimator input.sk-toggleable__control:checked~label.sk-toggleable__label {background-color: #d4ebff;}#sk-container-id-7 div.sk-label input.sk-toggleable__control:checked~label.sk-toggleable__label {background-color: #d4ebff;}#sk-container-id-7 input.sk-hidden--visually {border: 0;clip: rect(1px 1px 1px 1px);clip: rect(1px, 1px, 1px, 1px);height: 1px;margin: -1px;overflow: hidden;padding: 0;position: absolute;width: 1px;}#sk-container-id-7 div.sk-estimator {font-family: monospace;background-color: #f0f8ff;border: 1px dotted black;border-radius: 0.25em;box-sizing: border-box;margin-bottom: 0.5em;}#sk-container-id-7 div.sk-estimator:hover {background-color: #d4ebff;}#sk-container-id-7 div.sk-parallel-item::after {content: \"\";width: 100%;border-bottom: 1px solid gray;flex-grow: 1;}#sk-container-id-7 div.sk-label:hover label.sk-toggleable__label {background-color: #d4ebff;}#sk-container-id-7 div.sk-serial::before {content: \"\";position: absolute;border-left: 1px solid gray;box-sizing: border-box;top: 0;bottom: 0;left: 50%;z-index: 0;}#sk-container-id-7 div.sk-serial {display: flex;flex-direction: column;align-items: center;background-color: white;padding-right: 0.2em;padding-left: 0.2em;position: relative;}#sk-container-id-7 div.sk-item {position: relative;z-index: 1;}#sk-container-id-7 div.sk-parallel {display: flex;align-items: stretch;justify-content: center;background-color: white;position: relative;}#sk-container-id-7 div.sk-item::before, #sk-container-id-7 div.sk-parallel-item::before {content: \"\";position: absolute;border-left: 1px solid gray;box-sizing: border-box;top: 0;bottom: 0;left: 50%;z-index: -1;}#sk-container-id-7 div.sk-parallel-item {display: flex;flex-direction: column;z-index: 1;position: relative;background-color: white;}#sk-container-id-7 div.sk-parallel-item:first-child::after {align-self: flex-end;width: 50%;}#sk-container-id-7 div.sk-parallel-item:last-child::after {align-self: flex-start;width: 50%;}#sk-container-id-7 div.sk-parallel-item:only-child::after {width: 0;}#sk-container-id-7 div.sk-dashed-wrapped {border: 1px dashed gray;margin: 0 0.4em 0.5em 0.4em;box-sizing: border-box;padding-bottom: 0.4em;background-color: white;}#sk-container-id-7 div.sk-label label {font-family: monospace;font-weight: bold;display: inline-block;line-height: 1.2em;}#sk-container-id-7 div.sk-label-container {text-align: center;}#sk-container-id-7 div.sk-container {/* jupyter's `normalize.less` sets `[hidden] { display: none; }` but bootstrap.min.css set `[hidden] { display: none !important; }` so we also need the `!important` here to be able to override the default hidden behavior on the sphinx rendered scikit-learn.org. See: https://github.com/scikit-learn/scikit-learn/issues/21755 */display: inline-block !important;position: relative;}#sk-container-id-7 div.sk-text-repr-fallback {display: none;}</style><div id=\"sk-container-id-7\" class=\"sk-top-container\"><div class=\"sk-text-repr-fallback\"><pre>LogisticRegression()</pre><b>In a Jupyter environment, please rerun this cell to show the HTML representation or trust the notebook. <br />On GitHub, the HTML representation is unable to render, please try loading this page with nbviewer.org.</b></div><div class=\"sk-container\" hidden><div class=\"sk-item\"><div class=\"sk-estimator sk-toggleable\"><input class=\"sk-toggleable__control sk-hidden--visually\" id=\"sk-estimator-id-7\" type=\"checkbox\" checked><label for=\"sk-estimator-id-7\" class=\"sk-toggleable__label sk-toggleable__label-arrow\">LogisticRegression</label><div class=\"sk-toggleable__content\"><pre>LogisticRegression()</pre></div></div></div></div></div>"
            ]
          },
          "metadata": {},
          "execution_count": 475
        }
      ]
    },
    {
      "cell_type": "markdown",
      "source": [
        "Model Evaluation"
      ],
      "metadata": {
        "id": "rcuhpDA5aZ5W"
      }
    },
    {
      "cell_type": "code",
      "source": [
        "X_test_pred = model.predict(X_test)\n",
        "training_acc = accuracy_score(Y_test, X_test_pred)\n",
        "print(\"Accuary score: \", training_acc)"
      ],
      "metadata": {
        "colab": {
          "base_uri": "https://localhost:8080/"
        },
        "id": "vASH4YLXabVd",
        "outputId": "9d54bf8c-c635-4ee2-bed1-8a889d56c8d8"
      },
      "execution_count": null,
      "outputs": [
        {
          "output_type": "stream",
          "name": "stdout",
          "text": [
            "Accuary score:  0.7671075330649799\n"
          ]
        }
      ]
    },
    {
      "cell_type": "markdown",
      "source": [
        "Predict test data"
      ],
      "metadata": {
        "id": "7JuyYui0gy1L"
      }
    },
    {
      "cell_type": "code",
      "source": [
        "X_test2_pred = model.predict(X_t)"
      ],
      "metadata": {
        "id": "OI8qmVgrg08F"
      },
      "execution_count": null,
      "outputs": []
    },
    {
      "cell_type": "code",
      "source": [
        "diction = dict(zip(df_test['PassengerId'],X_test2_pred))\n",
        "result = pd.DataFrame({'PassengerID':df_test['PassengerId'],'Transported':X_test2_pred})\n",
        "result\n",
        "result['Transported'] = result['Transported'].replace({0:False,1:True})\n",
        "result.to_csv('Spaceship Titanic.csv',index=False)"
      ],
      "metadata": {
        "id": "kMtxW01rhHw8"
      },
      "execution_count": null,
      "outputs": []
    }
  ]
}